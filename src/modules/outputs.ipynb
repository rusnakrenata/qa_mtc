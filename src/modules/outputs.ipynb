{
 "cells": [
  {
   "cell_type": "code",
   "execution_count": 1,
   "id": "7e8c58be",
   "metadata": {},
   "outputs": [
    {
     "name": "stdout",
     "output_type": "stream",
     "text": [
      "Connection to MariaDB successful!\n"
     ]
    }
   ],
   "source": [
    "# ---------- IMPORT MODULES ----------\n",
    "from get_city_graph import get_city_graph\n",
    "from get_city_data_from_db import get_city_data_from_db\n",
    "from store_city_to_db import store_city_to_db\n",
    "from get_or_create_run_config import get_or_create_run_config\n",
    "from create_iteration import create_iteration\n",
    "from generate_vehicles import generate_vehicles\n",
    "from generate_vehicle_routes import generate_vehicle_routes\n",
    "from generate_congestion import generate_congestion\n",
    "from plot_congestion_heatmap import plot_congestion_heatmap, plot_congestion_heatmap_interactive\n",
    "from filter_routes_for_qubo import filter_routes_for_qubo\n",
    "from get_congestion_weights import get_congestion_weights\n",
    "from normalize_congestion_weights import normalize_congestion_weights\n",
    "from congestion_weights import congestion_weights\n",
    "from qubo_matrix import qubo_matrix\n",
    "\n",
    "# ---------- CONFIGURATION ----------\n",
    "from sqlalchemy.orm import sessionmaker\n",
    "from models import * #City, Node, Edge, RunConfig, Iteration, Vehicle, VehicleRoute, CongestionMap, RoutePoint  # adjust to your actual model imports\n",
    "\n",
    "\n",
    "CITY_NAME = \"Bratislava, Slovakia\"#\"Most pri Bratislave, Slovakia\"\n",
    "DIST_THRESH = 10\n",
    "SPEED_DIFF_THRESH = 2\n",
    "RUN_CONFIG_ID = 3#20      \n",
    "ITERATION_ID = 4#1\n",
    "API_KEY = ''\n",
    "\n",
    "Session = sessionmaker(bind=engine)\n",
    "session = Session()\n",
    "\n",
    "\n",
    "city = session.query(City).filter_by(name=CITY_NAME).first()\n",
    "_, edges = get_city_data_from_db(session, city.id)"
   ]
  },
  {
   "cell_type": "code",
   "execution_count": 2,
   "id": "6d4044c5",
   "metadata": {},
   "outputs": [],
   "source": [
    "def get_run_config_params(session, run_config_id, city_name):\n",
    "    from sqlalchemy import text\n",
    "\n",
    "    # Step 1: Get city_id\n",
    "    city_id_result = session.execute(text(\"\"\"\n",
    "        SELECT id FROM cities WHERE name = :city_name\n",
    "    \"\"\"), {'city_name': city_name}).fetchone()\n",
    "\n",
    "    if city_id_result is None:\n",
    "        raise ValueError(f\"No city found with name '{city_name}'\")\n",
    "\n",
    "    city_id = city_id_result[0]\n",
    "\n",
    "    sql = text(\"\"\"\n",
    "        SELECT\n",
    "            id,\n",
    "            city_id,\n",
    "            n_cars,\n",
    "            k_alternatives,\n",
    "            min_length,\n",
    "            max_length,\n",
    "            time_step,\n",
    "            time_window,\n",
    "            created_at\n",
    "        FROM run_configs\n",
    "        WHERE id = :run_config_id\n",
    "    \"\"\")\n",
    "\n",
    "    result = session.execute(sql, {'run_config_id': run_config_id, 'city_id': city_id}).fetchone()\n",
    "\n",
    "    if result is None:\n",
    "        raise ValueError(f\"No run_config found with id={run_config_id}\")\n",
    "\n",
    "    # Return as dictionary\n",
    "    keys = ['id', 'city_id', 'n_cars', 'k_alternatives', 'min_length',\n",
    "            'max_length', 'time_step', 'time_window', 'created_at']\n",
    "    return dict(zip(keys, result))\n"
   ]
  },
  {
   "cell_type": "code",
   "execution_count": 3,
   "id": "3216c354",
   "metadata": {},
   "outputs": [
    {
     "name": "stdout",
     "output_type": "stream",
     "text": [
      "10000 3 200\n"
     ]
    }
   ],
   "source": [
    "config = get_run_config_params(session, run_config_id=RUN_CONFIG_ID, city_name = CITY_NAME)\n",
    "print(config['n_cars'], config['k_alternatives'], config['min_length'])"
   ]
  },
  {
   "cell_type": "code",
   "execution_count": 4,
   "id": "d3b86928",
   "metadata": {},
   "outputs": [],
   "source": [
    "def get_routes_df(session, run_config_id, iteration_id):\n",
    "    from sqlalchemy import text\n",
    "    import pandas as pd\n",
    "\n",
    "    query = text(\"\"\"\n",
    "        SELECT\n",
    "            vehicle_id,\n",
    "            route_id,\n",
    "            point_id,\n",
    "            edge_id,\n",
    "            lat,\n",
    "            lon,\n",
    "            time,\n",
    "            speed,\n",
    "            cardinal\n",
    "        FROM trafficOptimization.route_points\n",
    "        WHERE run_configs_id = :run_config_id\n",
    "          AND iteration_id = :iteration_id\n",
    "        ORDER BY vehicle_id, route_id, point_id\n",
    "    \"\"\")\n",
    "\n",
    "    result = session.execute(query, {\n",
    "        'run_config_id': run_config_id,\n",
    "        'iteration_id': iteration_id\n",
    "    })\n",
    "\n",
    "    return pd.DataFrame(result.fetchall(), columns=[\n",
    "        'vehicle_id', 'route_id', 'point_id', 'edge_id',\n",
    "        'lat', 'lon', 'time', 'speed', 'cardinal'\n",
    "    ])\n"
   ]
  },
  {
   "cell_type": "code",
   "execution_count": 5,
   "id": "8c2695a0",
   "metadata": {},
   "outputs": [],
   "source": [
    "def get_congestion_df(session, run_config_id, iteration_id):\n",
    "    from sqlalchemy import text\n",
    "    import pandas as pd\n",
    "\n",
    "    query = text(\"\"\"\n",
    "        SELECT\n",
    "            edge_id,\n",
    "            vehicle1,\n",
    "            vehicle2,   \n",
    "            vehicle1_route,\n",
    "            vehicle2_route,\n",
    "            congestion_score\n",
    "        FROM trafficOptimization.congestion_map\n",
    "        WHERE run_configs_id = :run_config_id\n",
    "          AND iteration_id = :iteration_id\n",
    "    \"\"\")\n",
    "\n",
    "    result = session.execute(query, {\n",
    "        'run_config_id': run_config_id,\n",
    "        'iteration_id': iteration_id\n",
    "    })\n",
    "\n",
    "    return pd.DataFrame(result.fetchall(), columns=['edge_id', 'vehicle1', 'vehicle2', 'vehicle1_route', 'vehicle2_route', 'congestion_score'])\n"
   ]
  },
  {
   "cell_type": "code",
   "execution_count": 6,
   "id": "1926d5c3",
   "metadata": {},
   "outputs": [
    {
     "data": {
      "text/plain": [
       "<sqlalchemy.orm.session.Session at 0x22918a839d0>"
      ]
     },
     "execution_count": 6,
     "metadata": {},
     "output_type": "execute_result"
    }
   ],
   "source": [
    "session"
   ]
  },
  {
   "cell_type": "code",
   "execution_count": 7,
   "id": "d59c790c",
   "metadata": {},
   "outputs": [
    {
     "name": "stdout",
     "output_type": "stream",
     "text": [
      "Threshold (90.00%): 16.196978\n",
      "Filtered vehicles (549 total): [1, 2, 3, 4, 5, 6, 7, 9, 10, 11, 12, 13, 14, 15, 16, 17, 18, 19, 20, 21, 23, 24, 25, 27, 29, 30, 31, 32, 33, 34, 35, 36, 37, 38, 39, 40, 41, 42, 43, 45, 46, 47, 48, 49, 50, 51, 52, 53, 54, 55, 56, 58, 59, 60, 61, 62, 63, 64, 65, 66, 67, 68, 69, 70, 72, 73, 74, 75, 76, 77, 78, 79, 80, 81, 83, 84, 85, 86, 87, 88, 89, 90, 91, 92, 94, 95, 96, 97, 98, 99, 100, 102, 103, 104, 105, 111, 113, 115, 118, 119, 121, 122, 123, 124, 126, 128, 129, 130, 132, 133, 134, 136, 137, 145, 146, 147, 150, 151, 152, 154, 157, 158, 159, 160, 161, 167, 169, 170, 171, 172, 173, 175, 176, 177, 184, 185, 186, 187, 189, 191, 194, 197, 200, 203, 204, 206, 208, 209, 211, 216, 217, 219, 220, 224, 230, 233, 238, 246, 249, 253, 254, 256, 257, 259, 268, 270, 272, 282, 285, 286, 290, 295, 296, 298, 299, 308, 309, 310, 312, 317, 318, 319, 321, 324, 326, 327, 329, 336, 344, 346, 349, 353, 358, 362, 363, 364, 365, 368, 370, 372, 373, 374, 380, 383, 385, 387, 394, 396, 398, 407, 413, 417, 422, 425, 434, 437, 448, 449, 451, 458, 464, 466, 470, 475, 479, 487, 488, 490, 491, 492, 493, 494, 506, 510, 511, 516, 518, 521, 522, 532, 536, 538, 557, 565, 568, 576, 585, 590, 593, 600, 601, 612, 620, 627, 631, 648, 662, 663, 664, 668, 669, 685, 688, 695, 710, 724, 735, 742, 748, 753, 757, 762, 767, 773, 776, 788, 792, 805, 810, 812, 818, 821, 841, 843, 844, 849, 865, 869, 871, 876, 883, 887, 892, 900, 904, 916, 937, 961, 966, 976, 977, 978, 987, 989, 999, 1000, 1002, 1025, 1027, 1036, 1038, 1049, 1054, 1056, 1064, 1069, 1082, 1097, 1110, 1127, 1129, 1135, 1141, 1145, 1147, 1151, 1152, 1183, 1189, 1208, 1209, 1241, 1251, 1254, 1256, 1265, 1273, 1305, 1314, 1333, 1350, 1354, 1355, 1356, 1363, 1370, 1371, 1391, 1425, 1430, 1447, 1462, 1471, 1473, 1486, 1488, 1489, 1536, 1542, 1546, 1562, 1576, 1611, 1615, 1623, 1637, 1643, 1657, 1682, 1688, 1698, 1708, 1713, 1733, 1737, 1746, 1764, 1771, 1775, 1803, 1809, 1812, 1849, 1855, 1867, 1896, 1962, 1966, 1971, 2001, 2014, 2017, 2019, 2022, 2034, 2043, 2056, 2060, 2065, 2074, 2080, 2099, 2113, 2116, 2136, 2149, 2151, 2153, 2182, 2218, 2221, 2239, 2240, 2264, 2269, 2310, 2339, 2354, 2355, 2362, 2375, 2433, 2435, 2441, 2461, 2486, 2510, 2518, 2519, 2542, 2565, 2573, 2574, 2590, 2592, 2764, 2798, 2814, 2823, 2827, 2887, 2891, 2922, 2964, 2979, 2982, 2985, 3003, 3118, 3270, 3274, 3297, 3312, 3317, 3335, 3382, 3427, 3443, 3468, 3496, 3526, 3529, 3554, 3600, 3652, 3697, 3721, 3774, 3809, 3884, 3888, 3915, 3924, 3962, 3986, 4046, 4049, 4056, 4057, 4086, 4121, 4122, 4131, 4147, 4193, 4222, 4238, 4274, 4290, 4298, 4347, 4629, 4634, 4645, 4741, 4863, 4867, 5009, 5034, 5038, 5063, 5071, 5073, 5168, 5208, 5291, 5366, 5391, 5398, 5492, 5524, 5599, 5609, 5638, 5641, 5648, 5654, 5723, 6004, 6197, 6211, 6268, 6376, 6385, 6435, 6454, 6488, 6491, 6557, 6692, 6902, 6910, 6945, 6998, 7049, 7198, 7367, 7424, 7458, 7529, 7562, 7652, 7862, 7990, 8236, 8418, 8438, 8469, 9604]\n",
      "Number of elements: 549\n"
     ]
    }
   ],
   "source": [
    "#routes_df = get_routes_df(session, RUN_CONFIG_ID, ITERATION_ID)\n",
    "congestion_df = get_congestion_df(session, RUN_CONFIG_ID, ITERATION_ID)\n",
    "\n",
    "\n",
    "# Step 8: Filter routes for QUBO\n",
    "filtered_vehicles = filter_routes_for_qubo(congestion_df, threshold_percentile=0.9)\n",
    "#print(filtered_vehicles)\n",
    "N_FILTERED = len(filtered_vehicles)\n",
    "print(\"Number of elements:\", N_FILTERED)\n",
    "\n",
    "# Step 9: Compute wights from congestion\n",
    "weights_df = get_congestion_weights(session, RUN_CONFIG_ID, ITERATION_ID)\n",
    "#print(weights_df)\n",
    "weights_df.to_csv(\"files/weights_df.csv\", index=False)\n",
    "\n",
    "#weights_normalized = normalize_congestion_weights(weights_df, N_FILTERED, config['k_alternatives'], filtered_vehicles)\n",
    "#weights_wo_normalization, max_weight = congestion_weights(weights_df, N_FILTERED, config['k_alternatives'], filtered_vehicles)\n",
    "#print(weights_normalized)\n",
    "\n"
   ]
  },
  {
   "cell_type": "code",
   "execution_count": 8,
   "id": "6b9ef512",
   "metadata": {},
   "outputs": [
    {
     "name": "stdout",
     "output_type": "stream",
     "text": [
      "Vehicle ids: [1, 2, 3, 4, 5, 6, 7, 9, 10, 11, 12, 13, 14, 15, 16, 17, 18, 19, 20, 21, 23, 24, 25, 27, 29, 30, 31, 32, 33, 34, 35, 36, 37, 38, 39, 40, 41, 42, 43, 45, 46, 47, 48, 49, 50, 51, 52, 53, 54, 55, 56, 58, 59, 60, 61, 62, 63, 64, 65, 66, 67, 68, 69, 70, 72, 73, 74, 75, 76, 77, 78, 79, 80, 81, 83, 84, 85, 86, 87, 88, 89, 90, 91, 92, 94, 95, 96, 97, 98, 99, 100, 102, 103, 104, 105, 111, 113, 115, 118, 119, 121, 122, 123, 124, 126, 128, 129, 130, 132, 133, 134, 136, 137, 145, 146, 147, 150, 151, 152, 154, 157, 158, 159, 160, 161, 167, 169, 170, 171, 172, 173, 175, 176, 177, 184, 185, 186, 187, 189, 191, 194, 197, 200, 203, 204, 206, 208, 209, 211, 216, 217, 219, 220, 224, 230, 233, 238, 246, 249, 253, 254, 256, 257, 259, 268, 270, 272, 282, 285, 286, 290, 295, 296, 298, 299, 308, 309, 310, 312, 317, 318, 319, 321, 324, 326, 327, 329, 336, 344, 346, 349, 353, 358, 362, 363, 364, 365, 368, 370, 372, 373, 374, 380, 383, 385, 387, 394, 396, 398, 407, 413, 417, 422, 425, 434, 437, 448, 449, 451, 458, 464, 466, 470, 475, 479, 487, 488, 490, 491, 492, 493, 494, 506, 510, 511, 516, 518, 521, 522, 532, 536, 538, 557, 565, 568, 576, 585, 590, 593, 600, 601, 612, 620, 627, 631, 648, 662, 663, 664, 668, 669, 685, 688, 695, 710, 724, 735, 742, 748, 753, 757, 762, 767, 773, 776, 788, 792, 805, 810, 812, 818, 821, 841, 843, 844, 849, 865, 869, 871, 876, 883, 887, 892, 900, 904, 916, 937, 961, 966, 976, 977, 978, 987, 989, 999, 1000, 1002, 1025, 1027, 1036, 1038, 1049, 1054, 1056, 1064, 1069, 1082, 1097, 1110, 1127, 1129, 1135, 1141, 1145, 1147, 1151, 1152, 1183, 1189, 1208, 1209, 1241, 1251, 1254, 1256, 1265, 1273, 1305, 1314, 1333, 1350, 1354, 1355, 1356, 1363, 1370, 1371, 1391, 1425, 1430, 1447, 1462, 1471, 1473, 1486, 1488, 1489, 1536, 1542, 1546, 1562, 1576, 1611, 1615, 1623, 1637, 1643, 1657, 1682, 1688, 1698, 1708, 1713, 1733, 1737, 1746, 1764, 1771, 1775, 1803, 1809, 1812, 1849, 1855, 1867, 1896, 1962, 1966, 1971, 2001, 2014, 2017, 2019, 2022, 2034, 2043, 2056, 2060, 2065, 2074, 2080, 2099, 2113, 2116, 2136, 2149, 2151, 2153, 2182, 2218, 2221, 2239, 2240, 2264, 2269, 2310, 2339, 2354, 2355, 2362, 2375, 2433, 2435, 2441, 2461, 2486, 2510, 2518, 2519, 2542, 2565, 2573, 2574, 2590, 2592, 2764, 2798, 2814, 2823, 2827, 2887, 2891, 2922, 2964, 2979, 2982, 2985, 3003, 3118, 3270, 3274, 3297, 3312, 3317, 3335, 3382, 3427, 3443, 3468, 3496, 3526, 3529, 3554, 3600, 3652, 3697, 3721, 3774, 3809, 3884, 3888, 3915, 3924, 3962, 3986, 4046, 4049, 4056, 4057, 4086, 4121, 4122, 4131, 4147, 4193, 4222, 4238, 4274, 4290, 4298, 4347, 4629, 4634, 4645, 4741, 4863, 4867, 5009, 5034, 5038, 5063, 5071, 5073, 5168, 5208, 5291, 5366, 5391, 5398, 5492, 5524, 5599, 5609, 5638, 5641, 5648, 5654, 5723, 6004, 6197, 6211, 6268, 6376, 6385, 6435, 6454, 6488, 6491, 6557, 6692, 6902, 6910, 6945, 6998, 7049, 7198, 7367, 7424, 7458, 7529, 7562, 7652, 7862, 7990, 8236, 8418, 8438, 8469, 9604]\n",
      "Vehicle ids index: {1: 0, 2: 1, 3: 2, 4: 3, 5: 4, 6: 5, 7: 6, 9: 7, 10: 8, 11: 9, 12: 10, 13: 11, 14: 12, 15: 13, 16: 14, 17: 15, 18: 16, 19: 17, 20: 18, 21: 19, 23: 20, 24: 21, 25: 22, 27: 23, 29: 24, 30: 25, 31: 26, 32: 27, 33: 28, 34: 29, 35: 30, 36: 31, 37: 32, 38: 33, 39: 34, 40: 35, 41: 36, 42: 37, 43: 38, 45: 39, 46: 40, 47: 41, 48: 42, 49: 43, 50: 44, 51: 45, 52: 46, 53: 47, 54: 48, 55: 49, 56: 50, 58: 51, 59: 52, 60: 53, 61: 54, 62: 55, 63: 56, 64: 57, 65: 58, 66: 59, 67: 60, 68: 61, 69: 62, 70: 63, 72: 64, 73: 65, 74: 66, 75: 67, 76: 68, 77: 69, 78: 70, 79: 71, 80: 72, 81: 73, 83: 74, 84: 75, 85: 76, 86: 77, 87: 78, 88: 79, 89: 80, 90: 81, 91: 82, 92: 83, 94: 84, 95: 85, 96: 86, 97: 87, 98: 88, 99: 89, 100: 90, 102: 91, 103: 92, 104: 93, 105: 94, 111: 95, 113: 96, 115: 97, 118: 98, 119: 99, 121: 100, 122: 101, 123: 102, 124: 103, 126: 104, 128: 105, 129: 106, 130: 107, 132: 108, 133: 109, 134: 110, 136: 111, 137: 112, 145: 113, 146: 114, 147: 115, 150: 116, 151: 117, 152: 118, 154: 119, 157: 120, 158: 121, 159: 122, 160: 123, 161: 124, 167: 125, 169: 126, 170: 127, 171: 128, 172: 129, 173: 130, 175: 131, 176: 132, 177: 133, 184: 134, 185: 135, 186: 136, 187: 137, 189: 138, 191: 139, 194: 140, 197: 141, 200: 142, 203: 143, 204: 144, 206: 145, 208: 146, 209: 147, 211: 148, 216: 149, 217: 150, 219: 151, 220: 152, 224: 153, 230: 154, 233: 155, 238: 156, 246: 157, 249: 158, 253: 159, 254: 160, 256: 161, 257: 162, 259: 163, 268: 164, 270: 165, 272: 166, 282: 167, 285: 168, 286: 169, 290: 170, 295: 171, 296: 172, 298: 173, 299: 174, 308: 175, 309: 176, 310: 177, 312: 178, 317: 179, 318: 180, 319: 181, 321: 182, 324: 183, 326: 184, 327: 185, 329: 186, 336: 187, 344: 188, 346: 189, 349: 190, 353: 191, 358: 192, 362: 193, 363: 194, 364: 195, 365: 196, 368: 197, 370: 198, 372: 199, 373: 200, 374: 201, 380: 202, 383: 203, 385: 204, 387: 205, 394: 206, 396: 207, 398: 208, 407: 209, 413: 210, 417: 211, 422: 212, 425: 213, 434: 214, 437: 215, 448: 216, 449: 217, 451: 218, 458: 219, 464: 220, 466: 221, 470: 222, 475: 223, 479: 224, 487: 225, 488: 226, 490: 227, 491: 228, 492: 229, 493: 230, 494: 231, 506: 232, 510: 233, 511: 234, 516: 235, 518: 236, 521: 237, 522: 238, 532: 239, 536: 240, 538: 241, 557: 242, 565: 243, 568: 244, 576: 245, 585: 246, 590: 247, 593: 248, 600: 249, 601: 250, 612: 251, 620: 252, 627: 253, 631: 254, 648: 255, 662: 256, 663: 257, 664: 258, 668: 259, 669: 260, 685: 261, 688: 262, 695: 263, 710: 264, 724: 265, 735: 266, 742: 267, 748: 268, 753: 269, 757: 270, 762: 271, 767: 272, 773: 273, 776: 274, 788: 275, 792: 276, 805: 277, 810: 278, 812: 279, 818: 280, 821: 281, 841: 282, 843: 283, 844: 284, 849: 285, 865: 286, 869: 287, 871: 288, 876: 289, 883: 290, 887: 291, 892: 292, 900: 293, 904: 294, 916: 295, 937: 296, 961: 297, 966: 298, 976: 299, 977: 300, 978: 301, 987: 302, 989: 303, 999: 304, 1000: 305, 1002: 306, 1025: 307, 1027: 308, 1036: 309, 1038: 310, 1049: 311, 1054: 312, 1056: 313, 1064: 314, 1069: 315, 1082: 316, 1097: 317, 1110: 318, 1127: 319, 1129: 320, 1135: 321, 1141: 322, 1145: 323, 1147: 324, 1151: 325, 1152: 326, 1183: 327, 1189: 328, 1208: 329, 1209: 330, 1241: 331, 1251: 332, 1254: 333, 1256: 334, 1265: 335, 1273: 336, 1305: 337, 1314: 338, 1333: 339, 1350: 340, 1354: 341, 1355: 342, 1356: 343, 1363: 344, 1370: 345, 1371: 346, 1391: 347, 1425: 348, 1430: 349, 1447: 350, 1462: 351, 1471: 352, 1473: 353, 1486: 354, 1488: 355, 1489: 356, 1536: 357, 1542: 358, 1546: 359, 1562: 360, 1576: 361, 1611: 362, 1615: 363, 1623: 364, 1637: 365, 1643: 366, 1657: 367, 1682: 368, 1688: 369, 1698: 370, 1708: 371, 1713: 372, 1733: 373, 1737: 374, 1746: 375, 1764: 376, 1771: 377, 1775: 378, 1803: 379, 1809: 380, 1812: 381, 1849: 382, 1855: 383, 1867: 384, 1896: 385, 1962: 386, 1966: 387, 1971: 388, 2001: 389, 2014: 390, 2017: 391, 2019: 392, 2022: 393, 2034: 394, 2043: 395, 2056: 396, 2060: 397, 2065: 398, 2074: 399, 2080: 400, 2099: 401, 2113: 402, 2116: 403, 2136: 404, 2149: 405, 2151: 406, 2153: 407, 2182: 408, 2218: 409, 2221: 410, 2239: 411, 2240: 412, 2264: 413, 2269: 414, 2310: 415, 2339: 416, 2354: 417, 2355: 418, 2362: 419, 2375: 420, 2433: 421, 2435: 422, 2441: 423, 2461: 424, 2486: 425, 2510: 426, 2518: 427, 2519: 428, 2542: 429, 2565: 430, 2573: 431, 2574: 432, 2590: 433, 2592: 434, 2764: 435, 2798: 436, 2814: 437, 2823: 438, 2827: 439, 2887: 440, 2891: 441, 2922: 442, 2964: 443, 2979: 444, 2982: 445, 2985: 446, 3003: 447, 3118: 448, 3270: 449, 3274: 450, 3297: 451, 3312: 452, 3317: 453, 3335: 454, 3382: 455, 3427: 456, 3443: 457, 3468: 458, 3496: 459, 3526: 460, 3529: 461, 3554: 462, 3600: 463, 3652: 464, 3697: 465, 3721: 466, 3774: 467, 3809: 468, 3884: 469, 3888: 470, 3915: 471, 3924: 472, 3962: 473, 3986: 474, 4046: 475, 4049: 476, 4056: 477, 4057: 478, 4086: 479, 4121: 480, 4122: 481, 4131: 482, 4147: 483, 4193: 484, 4222: 485, 4238: 486, 4274: 487, 4290: 488, 4298: 489, 4347: 490, 4629: 491, 4634: 492, 4645: 493, 4741: 494, 4863: 495, 4867: 496, 5009: 497, 5034: 498, 5038: 499, 5063: 500, 5071: 501, 5073: 502, 5168: 503, 5208: 504, 5291: 505, 5366: 506, 5391: 507, 5398: 508, 5492: 509, 5524: 510, 5599: 511, 5609: 512, 5638: 513, 5641: 514, 5648: 515, 5654: 516, 5723: 517, 6004: 518, 6197: 519, 6211: 520, 6268: 521, 6376: 522, 6385: 523, 6435: 524, 6454: 525, 6488: 526, 6491: 527, 6557: 528, 6692: 529, 6902: 530, 6910: 531, 6945: 532, 6998: 533, 7049: 534, 7198: 535, 7367: 536, 7424: 537, 7458: 538, 7529: 539, 7562: 540, 7652: 541, 7862: 542, 7990: 543, 8236: 544, 8418: 545, 8438: 546, 8469: 547, 9604: 548}\n",
      "|i| = 549, |j| = 549, |k1| = 3, |k2| = 3\n",
      "min_w = 0.000000, max_w = 697.731812, non-zero weights = 1194\n",
      "|i| = 549, |j| = 549, |k1| = 3, |k2| = 3\n",
      "min_w = 0.000000, max_w = 697.731812, non-zero weights = 1194\n"
     ]
    }
   ],
   "source": [
    "# Step 10: QUBO\n",
    "Q, weights, w_c = qubo_matrix(N_FILTERED, config['k_alternatives'], weights_df, filtered_vehicles, lambda_strategy=\"normalized\", fixed_lambda=1.0)\n",
    "\n",
    "#for (q1, q2), value in Q.items():\n",
    "#    print(f\"Q[{q1}, {q2}] = {value:.4f}\")\n"
   ]
  },
  {
   "cell_type": "code",
   "execution_count": 10,
   "id": "7001e9e7",
   "metadata": {},
   "outputs": [],
   "source": [
    "import numpy as np\n",
    "import pandas as pd\n",
    "\n",
    "def qubo_dict_to_dataframe(Q, size):\n",
    "    matrix = np.zeros((size, size))\n",
    "    for (i, j), v in Q.items():\n",
    "        matrix[i][j] = v\n",
    "        if i != j:\n",
    "            matrix[j][i] = v  # ensure symmetry for display\n",
    "    return pd.DataFrame(matrix), matrix\n",
    "\n",
    "# Example usage\n",
    "size = N_FILTERED * config['k_alternatives']\n",
    "Q_df, matrix = qubo_dict_to_dataframe(Q, size)\n",
    "\n"
   ]
  },
  {
   "cell_type": "code",
   "execution_count": 11,
   "id": "51bdf044",
   "metadata": {},
   "outputs": [],
   "source": [
    "Q_df.to_csv(\"files/qubo_matrix.csv\", index=False)\n"
   ]
  },
  {
   "cell_type": "code",
   "execution_count": 12,
   "id": "07b0c1bb",
   "metadata": {},
   "outputs": [],
   "source": [
    "from compute_shortest_routes import compute_shortest_routes\n",
    "\n",
    "# Step : Plot heatmap\n",
    "plot_map = plot_congestion_heatmap_interactive(edges, congestion_df,offset_deg=0.000025)\n",
    "plot_map\n",
    "plot_map.save(\"files/congestion_heatmap.html\")\n",
    "\n",
    "shortes_routes_dur_df = compute_shortest_routes(session, RUN_CONFIG_ID, ITERATION_ID, method=\"duration\")\n",
    "plot_map_dur = plot_congestion_heatmap_interactive(edges, shortes_routes_dur_df,offset_deg=0.000025)\n",
    "plot_map_dur\n",
    "plot_map_dur.save(\"files/shortest_routes_dur_congestion_heatmap.html\")\n",
    "\n",
    "\n",
    "shortes_routes_dis_df = compute_shortest_routes(session, RUN_CONFIG_ID, ITERATION_ID, method=\"distance\")\n",
    "plot_map_dis = plot_congestion_heatmap_interactive(edges, shortes_routes_dis_df,offset_deg=0.000025)\n",
    "plot_map_dis\n",
    "plot_map_dis.save(\"files/shortest_routes_dis_congestion_heatmap.html\")\n",
    "\n",
    "session.close()"
   ]
  },
  {
   "cell_type": "code",
   "execution_count": null,
   "id": "b21256c3",
   "metadata": {},
   "outputs": [],
   "source": []
  }
 ],
 "metadata": {
  "kernelspec": {
   "display_name": "venv",
   "language": "python",
   "name": "python3"
  },
  "language_info": {
   "codemirror_mode": {
    "name": "ipython",
    "version": 3
   },
   "file_extension": ".py",
   "mimetype": "text/x-python",
   "name": "python",
   "nbconvert_exporter": "python",
   "pygments_lexer": "ipython3",
   "version": "3.11.0"
  }
 },
 "nbformat": 4,
 "nbformat_minor": 5
}
