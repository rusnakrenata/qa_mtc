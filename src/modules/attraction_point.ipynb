{
 "cells": [
  {
   "cell_type": "code",
   "execution_count": null,
   "id": "0e0df959",
   "metadata": {},
   "outputs": [],
   "source": [
    "import geopandas as gpd\n",
    "from shapely.geometry import Point\n",
    "from sqlalchemy.orm import sessionmaker\n",
    "from modules.config import CITY_NAME\n",
    "from modules.get_city_graph import get_city_graph\n",
    "\n",
    "# 1. Define Steel Aréna Parking Coordinates (in WGS84)\n",
    "parking_coords = (48.715342, 21.246145)  # lat, lon\n",
    "parking_point = Point(parking_coords[1], parking_coords[0])  # lon, lat\n",
    "\n",
    "nodes, edges_gdf = get_city_graph(city_name = CITY_NAME)\n",
    "\n",
    "# 2. Ensure edges_gdf has correct CRS (EPSG:4326)\n",
    "if edges_gdf.crs is None:\n",
    "    edges_gdf.set_crs(epsg=4326, inplace=True)\n",
    "\n",
    "# 3. Reproject both edges and point to EPSG:32634 (UTM zone 34N)\n",
    "edges_projected = edges_gdf.to_crs(epsg=32634)\n",
    "parking_projected = gpd.GeoSeries([parking_point], crs='EPSG:4326').to_crs(epsg=32634).iloc[0]\n",
    "\n",
    "# 4. Compute distance from point to each edge\n",
    "edges_projected['distance_to_parking'] = edges_projected.geometry.distance(parking_projected)\n",
    "\n",
    "# 5. Find the closest edge\n",
    "min_idx = edges_projected['distance_to_parking'].idxmin()\n",
    "nearest_edge = edges_projected.loc[min_idx]\n",
    "\n",
    "# 6. Print result\n",
    "print(f\"Nearest edge to Steel Arena parking is edge_id={nearest_edge['edge_id']} at {nearest_edge['distance_to_parking']:.2f} meters.\")\n"
   ]
  }
 ],
 "metadata": {
  "kernelspec": {
   "display_name": "venv",
   "language": "python",
   "name": "python3"
  },
  "language_info": {
   "name": "python",
   "version": "3.13.2"
  }
 },
 "nbformat": 4,
 "nbformat_minor": 5
}
