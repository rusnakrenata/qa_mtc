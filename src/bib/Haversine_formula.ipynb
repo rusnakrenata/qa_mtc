{
 "cells": [
  {
   "cell_type": "markdown",
   "id": "0d167609",
   "metadata": {},
   "source": [
    "## Critical Reviewer Perspective on Using the Haversine Formula:\n",
    "\n",
    "As a reviewer, I'd ask the following questions for justification:\n",
    "\n",
    "- Why was the Haversine formula chosen for distance calculations in your scenario?\n",
    "- What's the expected accuracy required for the traffic congestion scenario, and is the Earth's curvature relevant at such scales?\n",
    "- Have you compared the performance and accuracy of the Haversine formula with simpler approximations (e.g., Euclidean distance) or more precise methods (e.g., Vincenty's formula)?\n",
    "- Is the computational overhead justified by the increase in accuracy for your application's context?\n",
    "\n",
    "### How to Justify:\n",
    "You should explicitly state in your article something like:\n",
    "\n",
    "To calculate the geographical distance between two route points, we employ the Haversine formula, which accurately computes great-circle distances considering Earth’s curvature. This method is preferable for urban traffic optimization, as vehicle GPS data accuracy typically ranges from several meters to tens of meters. While simpler approximations (e.g., Euclidean) neglect curvature, potentially leading to inaccuracies over distances longer than a few kilometers, more precise methods such as Vincenty's formula offer negligible additional accuracy improvements in urban-scale scenarios and come with higher computational costs, making the Haversine formula an optimal balance.\n",
    "\n",
    "#### Recommended References:\n",
    "```\n",
    "Haversine formula overview:\n",
    "Sinnott, R.W. (1984). \"Virtues of the Haversine\", Sky and Telescope, 68(2), 159.\n",
    "\n",
    "Distance formula comparisons:\n",
    "Vincenty, T. (1975). \"Direct and inverse solutions of geodesics on the ellipsoid with application of nested equations\", Survey Review, 23(176), 88-93.\n",
    "\n",
    "Computational aspects:\n",
    "Gade, K. (2010). \"A Non-singular Horizontal Position Representation\", Journal of Navigation, 63(3), 395-417.\n",
    "```"
   ]
  }
 ],
 "metadata": {
  "language_info": {
   "name": "python"
  }
 },
 "nbformat": 4,
 "nbformat_minor": 5
}
