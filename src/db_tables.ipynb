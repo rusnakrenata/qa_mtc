{
 "cells": [
  {
   "cell_type": "code",
   "execution_count": 4,
   "id": "628d54c0",
   "metadata": {},
   "outputs": [
    {
     "name": "stdout",
     "output_type": "stream",
     "text": [
      "Connection to MariaDB successful!\n"
     ]
    }
   ],
   "source": [
    "from sqlalchemy import create_engine, Column, Integer, String, Text, ForeignKey, Float, JSON, DateTime, BigInteger\n",
    "from sqlalchemy.orm import declarative_base, relationship, sessionmaker\n",
    "from datetime import datetime\n",
    "\n",
    "\n",
    "\n",
    "# Connection string\n",
    "db_user = \"root\"\n",
    "db_password = \"Test1234\"\n",
    "db_host = \"77.93.155.81\"\n",
    "db_name = \"trafficOptimization\"\n",
    "\n",
    "connection_url = f\"mysql+pymysql://{db_user}:{db_password}@{db_host}/{db_name}\"\n",
    "\n",
    "# Create SQLAlchemy engine\n",
    "engine = create_engine(connection_url)\n",
    "\n",
    "# Test connection\n",
    "try:\n",
    "    with engine.connect() as connection:\n",
    "        print(\"Connection to MariaDB successful!\")\n",
    "except Exception as e:\n",
    "    print(f\"Error connecting to MariaDB: {e}\")\n",
    "\n",
    "Base = declarative_base()"
   ]
  },
  {
   "cell_type": "code",
   "execution_count": 5,
   "id": "551b732c",
   "metadata": {},
   "outputs": [],
   "source": [
    "class City(Base):\n",
    "    __tablename__ = 'cities'\n",
    "    \n",
    "    id = Column(Integer, primary_key=True)\n",
    "    name = Column(String(255), unique=True, nullable=False)\n",
    "    created_at = Column(DateTime, default= datetime.utcnow)\n",
    "    node_count = Column(Integer)\n",
    "    edge_count = Column(Integer)\n",
    "\n",
    "    cars = relationship(\"Car\", back_populates=\"city\")\n",
    "    run_configs = relationship(\"RunConfig\", back_populates=\"city\")\n",
    "\n",
    "class Car(Base):\n",
    "    __tablename__ = 'cars'\n",
    "    \n",
    "    id = Column(Integer, primary_key=True)\n",
    "    city_id = Column(Integer, ForeignKey('cities.id'), nullable=False)\n",
    "    src_node = Column(BigInteger)\n",
    "    dst_node = Column(BigInteger)\n",
    "    src_lat = Column(Float)\n",
    "    src_lon = Column(Float)\n",
    "    dst_lat = Column(Float)\n",
    "    dst_lon = Column(Float)\n",
    "    created_at = Column(DateTime, default=datetime.utcnow)\n",
    "\n",
    "    city = relationship(\"City\", back_populates=\"cars\")\n",
    "    \n",
    "class RunConfig(Base):\n",
    "    __tablename__ = 'run_configs'\n",
    "\n",
    "    id = Column(Integer, primary_key=True)\n",
    "    city_id = Column(Integer, ForeignKey('cities.id'), nullable=False)\n",
    "    n_cars = Column(Integer)\n",
    "    k_alternatives = Column(Integer)\n",
    "    min_length = Column(Integer)\n",
    "    max_length = Column(Integer)\n",
    "    created_at = Column(DateTime, default=datetime.utcnow)\n",
    "\n",
    "    city = relationship(\"City\", back_populates=\"runs\")\n",
    "    \n"
   ]
  },
  {
   "cell_type": "code",
   "execution_count": 6,
   "id": "537df1e2",
   "metadata": {},
   "outputs": [],
   "source": [
    "Base.metadata.create_all(engine)"
   ]
  },
  {
   "cell_type": "code",
   "execution_count": null,
   "id": "e46b2b83",
   "metadata": {},
   "outputs": [],
   "source": []
  }
 ],
 "metadata": {
  "kernelspec": {
   "display_name": "venv",
   "language": "python",
   "name": "python3"
  },
  "language_info": {
   "codemirror_mode": {
    "name": "ipython",
    "version": 3
   },
   "file_extension": ".py",
   "mimetype": "text/x-python",
   "name": "python",
   "nbconvert_exporter": "python",
   "pygments_lexer": "ipython3",
   "version": "3.11.0"
  }
 },
 "nbformat": 4,
 "nbformat_minor": 5
}
